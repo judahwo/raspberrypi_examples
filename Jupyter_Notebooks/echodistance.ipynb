{
 "cells": [
  {
   "cell_type": "markdown",
   "metadata": {},
   "source": [
    "# **`echodistance.py`**\n",
    "\n",
    "The **`echodistance.py`** program employs the Raspberry Pi's GPIO to interface with an ultrasonic distance sensor. Utilizing the sensor's trigger and echo pins, the code emits a sonic pulse and measures the time it takes for the pulse to return after bouncing off an object. This time is then converted into a distance in inches. The program is designed to run indefinitely until interrupted by the user, at which point it performs GPIO cleanup.\n",
    "\n",
    "Here is the line-by-line explanation in markdown table format:\n",
    "\n",
    "| Code Example                                       | Code Explanation                                                                                     |\n",
    "|----------------------------------------------------|------------------------------------------------------------------------------------------------------|\n",
    "| `import RPi.GPIO as GPIO`                          | Import the Raspberry Pi GPIO library.                                                                 |\n",
    "| `import time`                                      | Import Python's built-in `time` module.                                                               |\n",
    "| `GPIO.setmode(GPIO.BCM)`                           | Set the GPIO mode to BCM to use GPIO pin numbering.                                                   |\n",
    "| `trigPin = 23`, `echoPin = 24`                     | Declare and initialize GPIO pins for the trigger and echo of the ultrasonic sensor.                    |\n",
    "| `GPIO.setup(trigPin, GPIO.OUT)`                    | Configure the trigger pin as an output pin.                                                           |\n",
    "| `GPIO.setup(echoPin, GPIO.IN)`                     | Configure the echo pin as an input pin.                                                               |\n",
    "| `try:`                                             | Start of try-except block for exception handling.                                                      |\n",
    "| `while True:`                                      | Start of an infinite loop to continuously measure distance.                                            |\n",
    "| `GPIO.output(trigPin, 0)`                          | Set the trigger pin to LOW.                                                                           |\n",
    "| `time.sleep(2E-6)`                                 | Wait for 2 microseconds.                                                                               |\n",
    "| `GPIO.output(trigPin, 1)`                          | Set the trigger pin to HIGH.                                                                          |\n",
    "| `time.sleep(10E-6)`                                | Wait for 10 microseconds.                                                                              |\n",
    "| `GPIO.output(trigPin, 0)`                          | Set the trigger pin to LOW again.                                                                     |\n",
    "| `while GPIO.input(echoPin) == 0:`                  | Wait for the echo pin to go HIGH.                                                                     |\n",
    "| `echoStartTime = time.time()`                      | Record the start time of the echo pulse.                                                              |\n",
    "| `while GPIO.input(echoPin) == 1:`                  | Wait for the echo pin to go LOW.                                                                      |\n",
    "| `echoStopTime = time.time()`                       | Record the stop time of the echo pulse.                                                               |\n",
    "| `ptt = echoStopTime - echoStartTime`               | Calculate the pulse travel time.                                                                       |\n",
    "| `distance = 6749.2*ptt`                            | Convert the pulse travel time to distance in inches.                                                   |\n",
    "| `print(round(distance, 1), 'Inches')`              | Print the rounded distance.                                                                            |\n",
    "| `time.sleep(.2)`                                   | Wait for 0.2 seconds before the next iteration.                                                        |\n",
    "| `except KeyboardInterrupt:`                        | Catch KeyboardInterrupt to exit the loop and perform cleanup.                                          |\n",
    "| `GPIO.cleanup()`                                   | Reset all the GPIO configurations to their default state.                                             |\n",
    "| `print('GPIO Clean')`                              | Print a message indicating that the GPIO has been successfully cleaned up.                             |\n"
   ]
  },
  {
   "cell_type": "code",
   "execution_count": null,
   "metadata": {},
   "outputs": [],
   "source": [
    "import RPi.GPIO as GPIO\n",
    "import time\n",
    "\n",
    "GPIO.setmode(GPIO.BCM)\n",
    "\n",
    "trigPin = 23\n",
    "echoPin = 24 \n",
    "\n",
    "GPIO.setup(trigPin, GPIO.OUT)\n",
    "GPIO.setup(echoPin, GPIO.IN)\n",
    "\n",
    "try:\n",
    "    while True:\n",
    "        GPIO.output(trigPin, 0)\n",
    "        time.sleep(2E-6)\n",
    "        GPIO.output(trigPin, 1)\n",
    "        time.sleep(10E-6)\n",
    "        GPIO.output(trigPin, 0)\n",
    "        while GPIO.input(echoPin) == 0:\n",
    "            pass\n",
    "        echoStartTime = time.time()\n",
    "        while GPIO.input(echoPin) == 1:\n",
    "            pass\n",
    "        echoStopTime = time.time()\n",
    "        ptt = echoStopTime - echoStartTime\n",
    "        distance = 6749.2*ptt\n",
    "        print(round(distance, 1), 'Inches')\n",
    "        time.sleep(.2)\n",
    "except KeyboardInterrupt:\n",
    "    GPIO.cleanup()\n",
    "    print('GPIO Clean')"
   ]
  }
 ],
 "metadata": {
  "kernelspec": {
   "display_name": "Python 3",
   "language": "python",
   "name": "python3"
  },
  "language_info": {
   "codemirror_mode": {
    "name": "ipython",
    "version": 3
   },
   "file_extension": ".py",
   "mimetype": "text/x-python",
   "name": "python",
   "nbconvert_exporter": "python",
   "pygments_lexer": "ipython3",
   "version": "3.11.1"
  },
  "orig_nbformat": 4
 },
 "nbformat": 4,
 "nbformat_minor": 2
}
