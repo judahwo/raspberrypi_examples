{
 "cells": [
  {
   "cell_type": "markdown",
   "metadata": {},
   "source": [
    "# **`speedofsound.py`**\n",
    "\n",
    "The script is designed to calculate the speed of sound using a Raspberry Pi, a trigger pin, and an echo pin. It operates in BCM (Broadcom) GPIO numbering mode. The trigger pin sends out an ultrasonic signal, and the echo pin listens for its return. The code calculates the time it takes for the signal to return and then calculates the speed of sound based on this time. The program continually updates the speed of sound and displays it in the console. The program can be stopped by pressing Ctrl-C. The program requires the RPi.GPIO library, which can be installed with the following command:\n",
    "\n",
    "sudo apt-get install python-rpi.gpio"
   ]
  },
  {
   "cell_type": "code",
   "execution_count": null,
   "metadata": {},
   "outputs": [],
   "source": [
    "import RPi.GPIO as GPIO\n",
    "import time\n",
    "\n",
    "GPIO.setmode(GPIO.BCM)\n",
    "\n",
    "trigPin = 23\n",
    "echoPin = 24 \n",
    "\n",
    "GPIO.setup(trigPin, GPIO.OUT)\n",
    "GPIO.setup(echoPin, GPIO.IN)\n",
    "\n",
    "try:\n",
    "    while True:\n",
    "        GPIO.output(trigPin, 0)\n",
    "        time.sleep(2E-6)\n",
    "        GPIO.output(trigPin, 1)\n",
    "        time.sleep(10E-6)\n",
    "        GPIO.output(trigPin, 0)\n",
    "        while GPIO.input(echoPin) == 0:\n",
    "            pass\n",
    "        echoStartTime = time.time()\n",
    "        while GPIO.input(echoPin) == 1:\n",
    "            pass\n",
    "        echoStopTime = time.time()\n",
    "        ptt = echoStopTime - echoStartTime\n",
    "        sos = 0.90909/ptt\n",
    "        print('The Speed of Sound is', sos, 'MPH')\n",
    "        pingTravelTime = echoStopTime - echoStartTime\n",
    "        print(int(pingTravelTime*1E6))\n",
    "        time.sleep(.2)\n",
    "except KeyboardInterrupt:\n",
    "    GPIO.cleanup()\n",
    "    print('GPIO Clean')"
   ]
  }
 ],
 "metadata": {
  "language_info": {
   "name": "python"
  },
  "orig_nbformat": 4
 },
 "nbformat": 4,
 "nbformat_minor": 2
}
