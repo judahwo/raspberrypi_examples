{
 "cells": [
  {
   "cell_type": "markdown",
   "metadata": {},
   "source": [
    "# **`toggleLED.py`**\n",
    "\n",
    "This program toggles an LED on and off when a button is pressed. The program uses the Raspberry Pi GPIO library to read the state of the button and to set the state of the LED. The program uses the sleep function from the time library to pause for a short time between reading the button state and updating the LED state. The program uses a while loop to continuously read the button state and update the LED state. The program uses a try/except block to handle a keyboard interrupt. The program uses the cleanup function from the GPIO library to reset all GPIO pins and clean up resources. The program prints a message to the console when the GPIO pins have been cleaned up. \n",
    "\n",
    "| Code Example                         | Code Explanation                                       |\n",
    "|--------------------------------------|--------------------------------------------------------|\n",
    "| `from time import sleep`              | Import the sleep function from the time library.       |\n",
    "| `import RPi.GPIO as GPIO`             | Import the Raspberry Pi GPIO library.                  |\n",
    "| `delay = .1`                          | Delay time of 100 milliseconds.                        |\n",
    "| `inPin = 40`                          | Define GPIO pin for button input.                      |\n",
    "| `outPin = 38`                         | Define GPIO pin for LED output.                        |\n",
    "| `LEDstate = 0`                        | Initialize the LED state to OFF.                       |\n",
    "| `buttonState = 1`                     | Initialize the button state to HIGH.                   |\n",
    "| `buttonStateOld = 1`                  | Store the previous state of the button.                |\n",
    "| `GPIO.setmode(GPIO.BOARD)`            | Set the GPIO numbering to BOARD mode.                  |\n",
    "| `GPIO.setup(outPin, GPIO.OUT)`        | Configure LED pin as an output.                        |\n",
    "| `GPIO.setup(inPin, GPIO.IN, pull_up_down=GPIO.PUD_UP)` | Configure button pin as an input with pull-up resistor. |\n",
    "| `while True:`                         | Start an infinite loop.                                |\n",
    "| `buttonState = GPIO.input(inPin)`     | Read the current state of the button.                  |\n",
    "| `print(buttonState)`                  | Print the current state of the button to the console.  |\n",
    "| `if buttonState == 1 and buttonStateOld == 0:` | Check if the button was pressed.        |\n",
    "| `LEDstate = not LEDstate`             | Toggle the state of the LED.                           |\n",
    "| `GPIO.output(outPin, LEDstate)`       | Update the LED pin output.                             |\n",
    "| `buttonStateOld = buttonState`        | Update the old button state.                           |\n",
    "| `sleep(delay)`                        | Pause for a short time.                                |\n",
    "| `except KeyboardInterrupt:`           | Handle keyboard interrupt for cleanup.                 |\n",
    "| `GPIO.cleanup()`                      | Reset all GPIO pins and clean up resources.            |\n",
    "| `print('GPIO Clean')`                 | Print a message indicating GPIO has been cleaned.      |\n"
   ]
  },
  {
   "cell_type": "code",
   "execution_count": null,
   "metadata": {},
   "outputs": [],
   "source": [
    "from time import sleep\n",
    "import RPi.GPIO as GPIO\n",
    "\n",
    "delay = .1\n",
    "inPin = 40\n",
    "outPin = 38\n",
    "LEDstate = 0\n",
    "buttonState = 1\n",
    "buttonStateOld = 1\n",
    "\n",
    "GPIO.setmode(GPIO.BOARD)\n",
    "GPIO.setup(outPin,GPIO.OUT)\n",
    "GPIO.setup(inPin,GPIO.IN,pull_up_down=GPIO.PUD_UP)\n",
    "\n",
    "try:\n",
    "\twhile True:\n",
    "\t\tbuttonState = GPIO.input(inPin)\n",
    "\t\tprint(buttonState)\n",
    "\t\tif buttonState == 1 and buttonStateOld == 0:\n",
    "\t\t\tLEDstate = not LEDstate\n",
    "\t\t\tGPIO.output(outPin,LEDstate)\n",
    "\t\tbuttonStateOld = buttonState\n",
    "\t\tsleep(delay)\n",
    "except KeyboardInterrupt:\n",
    "\tGPIO.cleanup()\n",
    "\tprint('GPIO Clean')"
   ]
  }
 ],
 "metadata": {
  "language_info": {
   "name": "python"
  },
  "orig_nbformat": 4
 },
 "nbformat": 4,
 "nbformat_minor": 2
}
