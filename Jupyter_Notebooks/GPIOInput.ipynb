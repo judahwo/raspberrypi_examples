{
 "cells": [
  {
   "cell_type": "markdown",
   "metadata": {},
   "source": [
    "# **`GPIOInput.py`**\n",
    "\n",
    "The **`GPIOInput.py`** code is intended for a Raspberry Pi and is designed to read the digital state of a GPIO pin every second. It utilizes the Raspberry Pi GPIO library for interfacing with the board's GPIO pins. The code sets up a specific pin (pin 40 in this case) as an input and goes into an infinite loop, continually reading and printing the state of this pin. The loop is interrupted by a KeyboardInterrupt, at which point the GPIO settings are returned to their default state.\n",
    "\n",
    "Here is the Markdown table that explains the code line-by-line, suitable for use in a Jupyter Notebook:\n",
    "\n",
    "| Code Example                  | Code Explanation                                                                                 |\n",
    "|-------------------------------|--------------------------------------------------------------------------------------------------|\n",
    "| `import RPi.GPIO as GPIO`     | Import the Raspberry Pi GPIO library to interact with GPIO pins.                                  |\n",
    "| `GPIO.setmode(GPIO.BOARD)`    | Set the GPIO mode to BOARD, which uses the physical pin numbering scheme.                         |\n",
    "| `inPin=40`                    | Initialize the variable `inPin` with the pin number 40.                                           |\n",
    "| `GPIO.setup(inPin,GPIO.IN)`   | Configure the specified GPIO pin (pin 40) as an input.                                            |\n",
    "| `from time import sleep`      | Import the `sleep` function from Python's built-in `time` module for delaying execution.          |\n",
    "| `try:`                        | Start of try-except block. The code within this block will execute until interrupted.             |\n",
    "| `while True:`                 | Start an infinite loop to read the GPIO input continually.                                        |\n",
    "| `readVal=GPIO.input(inPin)`   | Read the state of the GPIO pin specified by `inPin` and store it in `readVal`.                    |\n",
    "| `print(readVal)`              | Print the current state of the GPIO pin to the console.                                           |\n",
    "| `sleep(1)`                    | Pause execution for 1 second before the next iteration of the loop.                               |\n",
    "| `except KeyboardInterrupt:`   | Catch the KeyboardInterrupt exception to safely exit the infinite loop.                           |\n",
    "| `GPIO.cleanup()`              | Reset all GPIO settings to their default state.                                                   |\n"
   ]
  },
  {
   "cell_type": "code",
   "execution_count": null,
   "metadata": {},
   "outputs": [],
   "source": [
    "import RPi.GPIO as GPIO\n",
    "GPIO.setmode(GPIO.BOARD)\n",
    "inPin=40\n",
    "GPIO.setup(inPin,GPIO.IN)\n",
    "from time import sleep\n",
    "try:\n",
    "\twhile True:\n",
    "\t\treadVal=GPIO.input(inPin)\n",
    "\t\tprint(readVal)\n",
    "\t\tsleep(1)\n",
    "except KeyboardInterrupt:\n",
    "\tGPIO.cleanup()"
   ]
  }
 ],
 "metadata": {
  "language_info": {
   "name": "python"
  },
  "orig_nbformat": 4
 },
 "nbformat": 4,
 "nbformat_minor": 2
}
