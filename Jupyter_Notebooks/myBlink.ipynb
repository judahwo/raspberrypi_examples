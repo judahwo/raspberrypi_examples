{
 "cells": [
  {
   "cell_type": "markdown",
   "metadata": {},
   "source": [
    "# **`myBlink.ipynb`**\n",
    "\n",
    "The **`myBlink.ipynb`** code is structured to run on a Raspberry Pi and aims to read a digital input from one GPIO pin and control a digital output on another GPIO pin based on the input state. Specifically, it reads the state of pin 40 and sets the state of pin 38 accordingly. The program runs in an infinite loop, repeatedly reading the input and updating the output. The loop halts when a KeyboardInterrupt occurs, upon which it cleans up the GPIO settings.\n",
    "\n",
    "Below is the Markdown table elucidating the code on a line-by-line basis, suitable for your Jupyter Notebook:\n",
    "\n",
    "| Code Example                                 | Code Explanation                                                                                                  |\n",
    "|----------------------------------------------|-------------------------------------------------------------------------------------------------------------------|\n",
    "| `from time import sleep`                      | Import the `sleep` function from the `time` module for delaying the program.                                       |\n",
    "| `import RPi.GPIO as GPIO`                     | Import the Raspberry Pi GPIO library for GPIO functionalities.                                                     |\n",
    "| `delay = 1`                                  | Initialize a delay variable with the value of 1 second.                                                            |\n",
    "| `inPin = 40`                                 | Initialize the input pin variable with the value 40.                                                               |\n",
    "| `outPin = 38`                                | Initialize the output pin variable with the value 38.                                                              |\n",
    "| `GPIO.setmode(GPIO.BOARD)`                    | Set the GPIO numbering mode to BOARD for physical pin numbering.                                                   |\n",
    "| `GPIO.setup(outPin,GPIO.OUT)`                 | Configure the GPIO pin specified by `outPin` as an output pin.                                                     |\n",
    "| `GPIO.setup(inPin,GPIO.IN,pull_up_down=GPIO.PUD_UP)` | Configure the GPIO pin specified by `inPin` as an input pin with a pull-up resistor. |\n",
    "| `try:`                                        | Start of a try-except block to handle exceptions like KeyboardInterrupt.                                           |\n",
    "| `while True:`                                 | Start of an infinite loop to continuously read the input pin and set the output pin state accordingly.              |\n",
    "| `readVal = GPIO.input(inPin)`                 | Read the value of the input pin specified by `inPin` and store it in `readVal`.                                    |\n",
    "| `print(readVal)`                              | Print the value of `readVal` to the console.                                                                       |\n",
    "| `if readVal == 1:`                            | Check if the value of `readVal` is 1. If it is, execute the following line.                                        |\n",
    "| `GPIO.output(outPin,0)`                       | Set the output pin specified by `outPin` to low (0).                                                               |\n",
    "| `if readVal == 0:`                            | Check if the value of `readVal` is 0. If it is, execute the following line.                                        |\n",
    "| `GPIO.output(outPin,1)`                       | Set the output pin specified by `outPin` to high (1).                                                              |\n",
    "| `sleep(delay)`                                | Pause the program execution for `delay` seconds (1 second in this case) before the next iteration.                  |\n",
    "| `except KeyboardInterrupt:`                   | Exception handling for KeyboardInterrupt to exit the loop and cleanup GPIO settings.                                |\n",
    "| `GPIO.cleanup()`                              | Reset all GPIO channels and configurations to their default state.                                                 |\n",
    "| `print(\"GPIO Clean\")`                         | Print a message indicating that the GPIO settings have been cleaned up.                                            |\n"
   ]
  },
  {
   "cell_type": "code",
   "execution_count": null,
   "metadata": {},
   "outputs": [],
   "source": [
    "import RPi.GPIO as GPIO\n",
    "import time\n",
    "cont='Y'\n",
    "GPIO.setmode(GPIO.BOARD)\n",
    "GPIO.setup(11,GPIO.OUT)\n",
    "while cont=='Y':\n",
    "\tnumBlink=int(input('How many blinks:?'))\n",
    "\tfor i in range(0,numBlink):\n",
    "\t\tGPIO.output(11,1)\n",
    "\t\ttime.sleep(1)\n",
    "\t\tGPIO.output(11,0)\n",
    "\t\ttime.sleep(1)\n",
    "\tcont=input('Do you wish to continue?: (Y for Yes) ')\n",
    "GPIO.cleanup()"
   ]
  }
 ],
 "metadata": {
  "language_info": {
   "name": "python"
  },
  "orig_nbformat": 4
 },
 "nbformat": 4,
 "nbformat_minor": 2
}
