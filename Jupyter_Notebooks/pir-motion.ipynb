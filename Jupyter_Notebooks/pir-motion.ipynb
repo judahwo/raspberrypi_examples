{
 "cells": [
  {
   "cell_type": "markdown",
   "metadata": {},
   "source": [
    "# **`pir-motion.py`**\n",
    "\n",
    "This program uses a PIR motion sensor to detect motion. The motion sensor is connected to GPIO pin 12. The program will print the status of the motion sensor to the console. The program will run until the user presses `Ctrl+C` to break the loop. The program will then clean up the GPIO pins and print a message to indicate the GPIO pins have been cleaned. The program will then exit.  \n",
    "\n",
    "| Code Example                                       | Code Explanation                                                                   |\n",
    "|----------------------------------------------------|------------------------------------------------------------------------------------|\n",
    "| `import RPi.GPIO as GPIO`                          | Import Raspberry Pi's GPIO library.                                                |\n",
    "| `import time`                                      | Import time library for sleep function.                                            |\n",
    "| `motionPin = 12`                                   | Assign GPIO pin 12 to the motion sensor.                                           |\n",
    "| `GPIO.setmode(GPIO.BOARD)`                         | Set GPIO numbering to BOARD mode.                                                  |\n",
    "| `GPIO.setup(motionPin, GPIO.IN)`                   | Configure `motionPin` as input for the motion sensor.                              |\n",
    "| `time.sleep(60)`                                   | Initial sleep time for setup or to avoid initial false triggering.                 |\n",
    "| `try:`                                             | Start of try-except block for handling exceptions.                                 |\n",
    "| `    while True:`                                  | Infinite loop to continuously check for motion.                                    |\n",
    "| `        motion = GPIO.input(motionPin)`            | Read the status of `motionPin` and store it in `motion`.                           |\n",
    "| `        print(motion)`                             | Print the status of the motion sensor to the console.                              |\n",
    "| `        time.sleep(.1)`                            | Sleep for 0.1 seconds before checking again.                                       |\n",
    "| `except KeyboardInterrupt:`                        | Capture the keyboard interrupt to break the loop.                                   |\n",
    "| `    GPIO.cleanup()`                                | Reset all GPIO pins.                                                               |\n",
    "| `    print('GPIO Clean')`                           | Print a message to indicate GPIO has been cleaned.                                 |\n"
   ]
  },
  {
   "cell_type": "code",
   "execution_count": null,
   "metadata": {},
   "outputs": [],
   "source": [
    "import RPi.GPIO as GPIO\n",
    "import time\n",
    "\n",
    "motionPin = 12\n",
    "\n",
    "GPIO.setmode(GPIO.BOARD)\n",
    "GPIO.setup(motionPin, GPIO.IN)\n",
    "time.sleep(60)\n",
    "\n",
    "try:\n",
    "    while True:\n",
    "        motion = GPIO.input(motionPin)\n",
    "        print(motion)\n",
    "        time.sleep(.1)\n",
    "        \n",
    "except KeyboardInterrupt:\n",
    "    GPIO.cleanup()\n",
    "    print('GPIO Clean')"
   ]
  }
 ],
 "metadata": {
  "language_info": {
   "name": "python"
  },
  "orig_nbformat": 4
 },
 "nbformat": 4,
 "nbformat_minor": 2
}
