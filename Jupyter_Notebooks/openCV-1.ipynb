{
 "cells": [
  {
   "cell_type": "markdown",
   "metadata": {},
   "source": [
    "# **`openCV-1.py`**\n",
    "\n",
    "This program demonstrates how to use the Raspberry Pi camera with OpenCV to capture and display frames. The program uses the Picamera2 library to interact with the Raspberry Pi camera and the OpenCV library for computer vision tasks. The program captures a single frame from the camera as an array and displays it in an OpenCV window. The program uses the `capture_array()` method of the Picamera2 library to capture a single frame from the camera as an array. The program uses the `imshow()` method of the OpenCV library to display the captured frame in an OpenCV window. The program uses the `waitKey()` method of the OpenCV library to wait for a key press to break the loop. The program uses the `destroyAllWindows()` method of the OpenCV library to close all OpenCV windows and release resources.\n",
    "\n",
    "| Code Example                        | Code Explanation                                                                  |\n",
    "|-------------------------------------|------------------------------------------------------------------------------------|\n",
    "| `import cv2`                        | Import the OpenCV library for computer vision tasks.                               |\n",
    "| `from picamera2 import Picamera2`   | Import the Picamera2 library to interact with Raspberry Pi camera.                 |\n",
    "| `piCam = Picamera2()`               | Create an instance of the Picamera2 class.                                         |\n",
    "| `piCam.preview_configuration.main.size = (1280,720)` | Set the size of the preview to 1280x720 pixels.           |\n",
    "| `piCam.preview_configuration.main.format=\"RGB888\"` | Set the color format of the preview to RGB888.            |\n",
    "| `piCam.preview_configuration.align()` | Align the preview configuration settings.                                      |\n",
    "| `piCam.configure(\"preview\")`        | Apply the preview configuration settings.                                          |\n",
    "| `piCam.start()`                     | Start the Pi camera.                                                                |\n",
    "| `while True:`                       | Start an infinite loop for continuous frame capture and display.                    |\n",
    "| `frame = piCam.capture_array()`     | Capture a single frame from the camera as an array.                                 |\n",
    "| `cv2.imshow(\"piCam\", frame)`        | Display the captured frame in an OpenCV window titled \"piCam\".                      |\n",
    "| `if cv2.waitKey(1)==ord('q'):`      | Check if the 'q' key is pressed to break the loop.                                  |\n",
    "| `cv2.destroyAllWindows()`           | Close all OpenCV windows and release resources.                                     |\n"
   ]
  },
  {
   "cell_type": "code",
   "execution_count": null,
   "metadata": {},
   "outputs": [],
   "source": [
    "import cv2\n",
    "from picamera2 import Picamera2\n",
    "\n",
    "piCam = Picamera2()\n",
    "piCam.preview_configuration.main.size = (1280,720)\n",
    "piCam.preview_configuration.main.format=\"RGB888\"\n",
    "piCam.preview_configuration.align()\n",
    "piCam.configure(\"preview\")\n",
    "piCam.start()\n",
    "\n",
    "while True:\n",
    "    frame = piCam.capture_array()\n",
    "    cv2.imshow(\"piCam\", frame)\n",
    "    if cv2.waitKey(1)==ord('q'):\n",
    "        break\n",
    "cv2.destroyAllWindows()"
   ]
  }
 ],
 "metadata": {
  "language_info": {
   "name": "python"
  },
  "orig_nbformat": 4
 },
 "nbformat": 4,
 "nbformat_minor": 2
}
