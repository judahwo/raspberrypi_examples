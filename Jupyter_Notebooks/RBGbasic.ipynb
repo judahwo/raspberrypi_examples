{
 "cells": [
  {
   "cell_type": "markdown",
   "metadata": {},
   "source": [
    "# **`RGBbasic.py`**\n",
    "\n",
    "This program will turn on the red, green, and blue LEDs for 5 seconds and then turn them off. The program will then clean up the GPIO pins and reset the Raspberry Pi. \n",
    "\n",
    "| Code Example                          | Code Explanation                                                 |\n",
    "|---------------------------------------|------------------------------------------------------------------|\n",
    "| `import RPi.GPIO as GPIO`             | Import the Raspberry Pi's GPIO library.                           |\n",
    "| `from time import sleep`              | Import sleep function from the time library.                      |\n",
    "| `GPIO.setmode(GPIO.BOARD)`            | Set GPIO numbering to BOARD mode.                                 |\n",
    "| `rPin = 37`                           | Assign pin 37 to the red LED.                                     |\n",
    "| `gPin = 35`                           | Assign pin 35 to the green LED.                                   |\n",
    "| `bPin = 33`                           | Assign pin 33 to the blue LED.                                    |\n",
    "| `GPIO.setup(rPin,GPIO.OUT)`           | Configure `rPin` as output.                                       |\n",
    "| `GPIO.setup(gPin,GPIO.OUT)`           | Configure `gPin` as output.                                       |\n",
    "| `GPIO.setup(bPin,GPIO.OUT)`           | Configure `bPin` as output.                                       |\n",
    "| `GPIO.output(rPin,0)`                 | Turn off the red LED by setting the GPIO to low (0).              |\n",
    "| `GPIO.output(gPin,0)`                 | Turn off the green LED by setting the GPIO to low (0).            |\n",
    "| `GPIO.output(bPin,0)`                 | Turn off the blue LED by setting the GPIO to low (0).             |\n",
    "| `sleep(5)`                            | Pause the program for 5 seconds.                                  |\n",
    "| `GPIO.cleanup()`                      | Reset all GPIO pins and clean up resources.                        |\n"
   ]
  },
  {
   "cell_type": "code",
   "execution_count": null,
   "metadata": {},
   "outputs": [],
   "source": [
    "import RPi.GPIO as GPIO \n",
    "from time import sleep\n",
    "\n",
    "GPIO.setmode(GPIO.BOARD)\n",
    "\n",
    "rPin = 37\n",
    "gPin = 35\n",
    "bPin = 33\n",
    "\n",
    "GPIO.setup(rPin,GPIO.OUT)\n",
    "GPIO.setup(gPin,GPIO.OUT)\n",
    "GPIO.setup(bPin,GPIO.OUT)\n",
    "\n",
    "GPIO.output(rPin,0)\n",
    "GPIO.output(gPin,0)\n",
    "GPIO.output(bPin,0)\n",
    "sleep(5)\n",
    "GPIO.cleanup()"
   ]
  }
 ],
 "metadata": {
  "language_info": {
   "name": "python"
  },
  "orig_nbformat": 4
 },
 "nbformat": 4,
 "nbformat_minor": 2
}
