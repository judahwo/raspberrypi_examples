{
 "cells": [
  {
   "cell_type": "markdown",
   "metadata": {},
   "source": [
    "# **`buttonLED.py`**\n",
    "\n",
    "This Python script is designed for use with a Raspberry Pi and utilizes its General-Purpose Input/Output (GPIO) pins. The purpose of the code is to read the value from an input pin (inPin, which is set to pin 40) and control an output pin (outPin, set to pin 38) based on the input value. Specifically, if the input is high (1), the output is set low (0), and if the input is low (0), the output is set high (1).\n",
    "\n",
    "| Code Example                  | Code Explanation                                                                                   |\n",
    "|-------------------------------|----------------------------------------------------------------------------------------------------|\n",
    "| `from time import sleep`      | Import the `sleep` function from the time library for potential sleep functionality.               |\n",
    "| `import RPi.GPIO as GPIO`     | Import the RPi.GPIO library and alias it as GPIO.                                                   |\n",
    "| `delay = .1`                  | Declare a variable `delay` and assign it the value 0.1 seconds, although it's not used in the code. |\n",
    "| `inPin = 40`                  | Declare variable `inPin` and assign it the GPIO pin number 40.                                      |\n",
    "| `outPin = 38`                 | Declare variable `outPin` and assign it the GPIO pin number 38.                                     |\n",
    "| `GPIO.setmode(GPIO.BOARD)`    | Set the GPIO numbering scheme to BOARD, based on physical numbering.                                |\n",
    "| `GPIO.setup(inPin,GPIO.IN)`   | Configure the GPIO pin associated with `inPin` as an input pin.                                     |\n",
    "| `GPIO.setup(outPin,GPIO.OUT)` | Configure the GPIO pin associated with `outPin` as an output pin.                                   |\n",
    "| `try:`                        | Start of a try-except block to handle exceptions like KeyboardInterrupt.                             |\n",
    "| `while True:`                 | Infinite loop to continuously check the input state.                                                 |\n",
    "| `readVal = GPIO.input(inPin)` | Read the value of the input pin and store it in `readVal`.                                          |\n",
    "| `if readVal == 1:`            | Check if the read value is 1 (High).                                                                |\n",
    "| `GPIO.output(outPin,0)`       | If read value is 1, set the output pin to 0 (Low).                                                  |\n",
    "| `if readVal == 0:`            | Check if the read value is 0 (Low).                                                                 |\n",
    "| `GPIO.output(outPin,1)`       | If read value is 0, set the output pin to 1 (High).                                                 |\n",
    "| `except KeyboardInterrupt:`   | Catch a KeyboardInterrupt exception to clean up resources and exit the program.                      |\n",
    "| `GPIO.cleanup()`              | Reset all GPIO pins used by this program.                                                           |\n",
    "| `print('End Program')`        | Print \"End Program\" to the console to indicate program termination.                                 |\n"
   ]
  },
  {
   "cell_type": "code",
   "execution_count": null,
   "metadata": {},
   "outputs": [],
   "source": [
    "from time import sleep\n",
    "import RPi.GPIO as GPIO\n",
    "\n",
    "delay = .1\n",
    "inPin = 40\n",
    "outPin = 38\n",
    "\n",
    "GPIO.setmode(GPIO.BOARD)\n",
    "GPIO.setup(inPin,GPIO.IN)\n",
    "GPIO.setup(outPin,GPIO.OUT)\n",
    "\n",
    "try:\n",
    "\twhile True:\n",
    "\t\treadVal = GPIO.input(inPin)\n",
    "\t\tif readVal == 1:\n",
    "\t\t\tGPIO.output(outPin,0)\n",
    "\t\tif readVal == 0:\n",
    "\t\t\tGPIO.output(outPin,1)\n",
    "\n",
    "except KeyboardInterrupt:\n",
    "\tGPIO.cleanup()\n",
    "\tprint('End Program')"
   ]
  }
 ],
 "metadata": {
  "language_info": {
   "name": "python"
  },
  "orig_nbformat": 4
 },
 "nbformat": 4,
 "nbformat_minor": 2
}
