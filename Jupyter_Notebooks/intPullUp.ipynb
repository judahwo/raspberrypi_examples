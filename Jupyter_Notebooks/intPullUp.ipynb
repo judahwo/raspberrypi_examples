{
 "cells": [
  {
   "cell_type": "markdown",
   "metadata": {},
   "source": [
    "# **`intPullUp.py`**\n",
    "\n",
    "This program demonstrates the use of internal pull-up resistors with the Raspberry Pi GPIO pins. The program reads the state of an input pin and sets the state of an output pin accordingly. The input pin is connected to a push button with one end connected to the pin and the other end connected to ground. The output pin is connected to an LED with one end connected to the pin and the other end connected to a 330 Ohm resistor which is then connected to ground. The program reads the state of the input pin and sets the state of the output pin accordingly. When the button is pressed, the input pin is connected to ground and the output pin is set to high (1) and the LED glows. When the button is not pressed, the input pin is connected to 3.3V and the output pin is set to low (0) and the LED does not glow.\n",
    "\n",
    "| Code Example                                 | Code Explanation                                                                                                  |\n",
    "|----------------------------------------------|-------------------------------------------------------------------------------------------------------------------|\n",
    "| `from time import sleep`                      | Import the `sleep` function from the `time` module for delaying the program.                                       |\n",
    "| `import RPi.GPIO as GPIO`                     | Import the Raspberry Pi GPIO library for GPIO functionalities.                                                     |\n",
    "| `delay = 1`                                  | Initialize a delay variable with the value of 1 second.                                                            |\n",
    "| `inPin = 40`                                 | Initialize the input pin variable with the value 40.                                                               |\n",
    "| `outPin = 38`                                | Initialize the output pin variable with the value 38.                                                              |\n",
    "| `GPIO.setmode(GPIO.BOARD)`                    | Set the GPIO numbering mode to BOARD for physical pin numbering.                                                   |\n",
    "| `GPIO.setup(outPin,GPIO.OUT)`                 | Configure the GPIO pin specified by `outPin` as an output pin.                                                     |\n",
    "| `GPIO.setup(inPin,GPIO.IN,pull_up_down=GPIO.PUD_UP)` | Configure the GPIO pin specified by `inPin` as an input pin with a pull-up resistor. |\n",
    "| `try:`                                        | Start of a try-except block to handle exceptions like KeyboardInterrupt.                                           |\n",
    "| `while True:`                                 | Start of an infinite loop to continuously read the input pin and set the output pin state accordingly.              |\n",
    "| `readVal = GPIO.input(inPin)`                 | Read the value of the input pin specified by `inPin` and store it in `readVal`.                                    |\n",
    "| `print(readVal)`                              | Print the value of `readVal` to the console.                                                                       |\n",
    "| `if readVal == 1:`                            | Check if the value of `readVal` is 1. If it is, execute the following line.                                        |\n",
    "| `GPIO.output(outPin,0)`                       | Set the output pin specified by `outPin` to low (0).                                                               |\n",
    "| `if readVal == 0:`                            | Check if the value of `readVal` is 0. If it is, execute the following line.                                        |\n",
    "| `GPIO.output(outPin,1)`                       | Set the output pin specified by `outPin` to high (1).                                                              |\n",
    "| `sleep(delay)`                                | Pause the program execution for `delay` seconds (1 second in this case) before the next iteration.                  |\n",
    "| `except KeyboardInterrupt:`                   | Exception handling for KeyboardInterrupt to exit the loop and cleanup GPIO settings.                                |\n",
    "| `GPIO.cleanup()`                              | Reset all GPIO channels and configurations to their default state.                                                 |\n",
    "| `print(\"GPIO Clean\")`                         | Print a message indicating that the GPIO settings have been cleaned up.                                            |\n",
    "                 \n"
   ]
  },
  {
   "cell_type": "code",
   "execution_count": null,
   "metadata": {},
   "outputs": [],
   "source": [
    "from time import sleep\n",
    "import RPi.GPIO as GPIO\n",
    "\n",
    "delay = 1\n",
    "inPin = 40\n",
    "outPin = 38\n",
    "\n",
    "GPIO.setmode(GPIO.BOARD)\n",
    "GPIO.setup(outPin,GPIO.OUT)\n",
    "GPIO.setup(inPin,GPIO.IN,pull_up_down=GPIO.PUD_UP)\n",
    "\n",
    "try:\n",
    "\twhile True:\n",
    "\t\treadVal = GPIO.input(inPin)\n",
    "\t\tprint(readVal)\n",
    "\t\tif readVal == 1:\n",
    "\t\t\tGPIO.output(outPin,0)\n",
    "\t\tif readVal == 0:\n",
    "\t\t\tGPIO.output(outPin,1)\n",
    "\t\tsleep(delay)\n",
    "\n",
    "except KeyboardInterrupt:\n",
    "\tGPIO.cleanup()\n",
    "\tprint(\"GPIO Clean\")"
   ]
  }
 ],
 "metadata": {
  "language_info": {
   "name": "python"
  },
  "orig_nbformat": 4
 },
 "nbformat": 4,
 "nbformat_minor": 2
}
